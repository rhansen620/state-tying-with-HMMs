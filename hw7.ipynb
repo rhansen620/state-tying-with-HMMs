{
 "cells": [
  {
   "cell_type": "markdown",
   "id": "67d075e2",
   "metadata": {
    "deletable": false,
    "editable": false,
    "nbgrader": {
     "cell_type": "markdown",
     "checksum": "1d343529b108d012b3cd88e79d0942be",
     "grade": false,
     "grade_id": "header",
     "locked": true,
     "schema_version": 3,
     "solution": false,
     "task": false
    }
   },
   "source": [
    "<img src='http://www.u.arizona.edu/~hammond/hltlogo1.png' style=\"float:right\">\n",
    "\n",
    "Linguistics 578<br>\n",
    "Fall 2022<br>\n",
    "Hammond\n",
    "\n",
    "## Things to remember about any homework assignment:\n",
    "\n",
    "1. For this assignment, you will edit this jupyter notebook and turn it in. Do not turn in pdf files or separate `.py` files.\n",
    "1. Late work is not accepted.\n",
    "1. Given the way I grade, you should try to answer *every* question, even if you don't like your answer or have to guess.\n",
    "1. You may *not* use `python` modules that we have not already used in class.\n",
    "1. You may certainly talk to your classmates about the assignment, but everybody must turn in *their own* work. It is not acceptable to turn in work that is essentially the same as the work of classmates.\n",
    "1. All code must run. It doesn't have to be perfect, it may not do all that you want it to do, but it must run without error.\n",
    "1. Code must run in reasonable time. Assume that if it takes more than *5 minutes* to run (on your machine), that's too long.\n",
    "1. Please do not add, remove, or copy autograded cells.\n",
    "1. Make sure to select `restart, run all cells` from the `kernel` menu when you're done and before you turn this in!"
   ]
  },
  {
   "cell_type": "markdown",
   "id": "9bf33062",
   "metadata": {},
   "source": [
    "***\n",
    "\n",
    "***my name***: Rachel Hansen\n",
    "\n",
    "***people I talked to about the assignment***: [put your answer here]\n",
    "\n",
    "***"
   ]
  },
  {
   "cell_type": "markdown",
   "id": "b07088b1",
   "metadata": {
    "deletable": false,
    "editable": false,
    "nbgrader": {
     "cell_type": "markdown",
     "checksum": "7ff26ae7f20a0bc75910976bf240e6da",
     "grade": false,
     "grade_id": "intro",
     "locked": true,
     "schema_version": 3,
     "solution": false,
     "task": false
    }
   },
   "source": [
    "## Homework #7\n",
    "\n",
    "The focus of this assignment is *state tying*. This is actually fairly simple with `pomegranate`. When you create a state, you specify some sort of distribution. If you use the same distribution for multiple states, as opposed to *copying* the distribution or making a new one, then the emissions from those states are tied.\n",
    "\n",
    "\n",
    "Here are the imports. Please do not import anything else."
   ]
  },
  {
   "cell_type": "code",
   "execution_count": 1,
   "id": "5fee7256",
   "metadata": {
    "deletable": false,
    "editable": false,
    "nbgrader": {
     "cell_type": "code",
     "checksum": "f698a5047a1167d5c9dce82b4a5716d8",
     "grade": false,
     "grade_id": "imports",
     "locked": true,
     "schema_version": 3,
     "solution": false,
     "task": false
    }
   },
   "outputs": [],
   "source": [
    "import pomegranate as p\n",
    "import numpy as np"
   ]
  },
  {
   "cell_type": "markdown",
   "id": "75793a58",
   "metadata": {
    "deletable": false,
    "editable": false,
    "nbgrader": {
     "cell_type": "markdown",
     "checksum": "f8835e3c4f681b14b4ed3d6f994da6ab",
     "grade": false,
     "grade_id": "q1text",
     "locked": true,
     "schema_version": 3,
     "solution": false,
     "task": false
    }
   },
   "source": [
    "1. Let's first create a discrete distribution over the symbols `a` and `b`. Specify their probabilities as $.3$ and $.7$ respectively."
   ]
  },
  {
   "cell_type": "code",
   "execution_count": 2,
   "id": "ca20d013",
   "metadata": {
    "deletable": false,
    "nbgrader": {
     "cell_type": "code",
     "checksum": "d2a110ae023eb2a18dfd83c98d35dfa3",
     "grade": false,
     "grade_id": "q1a",
     "locked": false,
     "schema_version": 3,
     "solution": true,
     "task": false
    }
   },
   "outputs": [],
   "source": [
    "# d = ?\n",
    "d = p.DiscreteDistribution({'a':.3,'b':.7})\n",
    "#raise NotImplementedError()"
   ]
  },
  {
   "cell_type": "code",
   "execution_count": 3,
   "id": "8a0bfc04",
   "metadata": {
    "deletable": false,
    "editable": false,
    "nbgrader": {
     "cell_type": "code",
     "checksum": "37ea9b20eb3eab52dd45dd50b6f96e50",
     "grade": true,
     "grade_id": "q1t1",
     "locked": true,
     "points": 1,
     "schema_version": 3,
     "solution": false,
     "task": false
    }
   },
   "outputs": [],
   "source": [
    "assert d.parameters[0] == {'b':.7,'a':.3}"
   ]
  },
  {
   "cell_type": "markdown",
   "id": "26777d79",
   "metadata": {
    "deletable": false,
    "editable": false,
    "nbgrader": {
     "cell_type": "markdown",
     "checksum": "36fce4f2d2c698841a91135dba49b4b9",
     "grade": false,
     "grade_id": "q2text",
     "locked": true,
     "schema_version": 3,
     "solution": false,
     "task": false
    }
   },
   "source": [
    "2. Now create an HMM with two states `s1` and `s2`. The only start state is `s1` and the only final state is `s2`. You also need arcs from `s1` to `s2` ($1.0$) and another from `s2` to `s2` ($0.5$). Use `d` above as the emissions distribution for `s1` and use a *copy* of `d` for `s2`."
   ]
  },
  {
   "cell_type": "code",
   "execution_count": 4,
   "id": "19322eb7",
   "metadata": {
    "deletable": false,
    "nbgrader": {
     "cell_type": "code",
     "checksum": "f0e04fccde13e7d90e5eb26f328b3d8f",
     "grade": false,
     "grade_id": "q2a",
     "locked": false,
     "schema_version": 3,
     "solution": true,
     "task": false
    }
   },
   "outputs": [],
   "source": [
    "# hmm1 = ?\n",
    "model = p.HiddenMarkovModel()\n",
    "s1 = p.State(d)\n",
    "s2 = p.State(d.copy())\n",
    "model.add_states(s1, s2)\n",
    "model.add_transition(model.start, s1, 1.0)\n",
    "model.add_transition(s1, s2, 1.0)\n",
    "model.add_transition(s2, s2, 0.5)\n",
    "model.add_transition(s2, model.end, 0.5)\n",
    "model.bake()\n",
    "hmm1 = model\n",
    "#raise NotImplementedError()"
   ]
  },
  {
   "cell_type": "code",
   "execution_count": 5,
   "id": "3afd3fbc",
   "metadata": {
    "deletable": false,
    "editable": false,
    "nbgrader": {
     "cell_type": "code",
     "checksum": "1773440f5482e805e6deb80b47473e12",
     "grade": true,
     "grade_id": "q2t1",
     "locked": true,
     "points": 1,
     "schema_version": 3,
     "solution": false,
     "task": false
    }
   },
   "outputs": [],
   "source": [
    "assert type(hmm1) == p.hmm.HiddenMarkovModel"
   ]
  },
  {
   "cell_type": "code",
   "execution_count": 6,
   "id": "59d9c0a4",
   "metadata": {
    "deletable": false,
    "editable": false,
    "nbgrader": {
     "cell_type": "code",
     "checksum": "bbc9469b231745415c4d06f312fe7ac2",
     "grade": true,
     "grade_id": "q2t2",
     "locked": true,
     "points": 1,
     "schema_version": 3,
     "solution": false,
     "task": false
    }
   },
   "outputs": [],
   "source": [
    "assert (hmm1.dense_transition_matrix() == np.array([\n",
    "    [0. , 1. , 0. , 0. ],\n",
    "    [0. , 0.5, 0. , 0.5],\n",
    "    [1. , 0. , 0. , 0. ],\n",
    "    [0. , 0. , 0. , 0. ]\n",
    "])).all()"
   ]
  },
  {
   "cell_type": "code",
   "execution_count": 7,
   "id": "906f8505",
   "metadata": {
    "deletable": false,
    "editable": false,
    "nbgrader": {
     "cell_type": "code",
     "checksum": "657bf0fdeef8fbe78a3cdd2f99191386",
     "grade": true,
     "grade_id": "q2t3",
     "locked": true,
     "points": 1,
     "schema_version": 3,
     "solution": false,
     "task": false
    }
   },
   "outputs": [],
   "source": [
    "ab = hmm1.probability('ab')\n",
    "assert np.isclose(ab,0.105,atol=.005)"
   ]
  },
  {
   "cell_type": "code",
   "execution_count": 8,
   "id": "650067df",
   "metadata": {
    "deletable": false,
    "editable": false,
    "nbgrader": {
     "cell_type": "code",
     "checksum": "c16bc0f09de017cdd8088ed15742bb74",
     "grade": true,
     "grade_id": "q2t4",
     "locked": true,
     "points": 1,
     "schema_version": 3,
     "solution": false,
     "task": false
    }
   },
   "outputs": [],
   "source": [
    "assert hmm1.states[0].distribution.parameters[0] == {'a': 0.3, 'b': 0.7} \\\n",
    "and hmm1.states[1].distribution.parameters[0] == {'a': 0.3, 'b': 0.7}"
   ]
  },
  {
   "cell_type": "code",
   "execution_count": 9,
   "id": "311cf791",
   "metadata": {
    "deletable": false,
    "editable": false,
    "nbgrader": {
     "cell_type": "code",
     "checksum": "fa97ceb0263d801bedc4fcfe044f8d36",
     "grade": true,
     "grade_id": "q2t5",
     "locked": true,
     "points": 1,
     "schema_version": 3,
     "solution": false,
     "task": false
    }
   },
   "outputs": [],
   "source": [
    "train = [np.array(list(word)) for word in ['ab','aaa','bba']]\n",
    "hmm1.fit(train)\n",
    "assert hmm1.states[0].distribution.parameters[0] != \\\n",
    "hmm1.states[1].distribution.parameters[0]"
   ]
  },
  {
   "cell_type": "code",
   "execution_count": 10,
   "id": "f553dc7b",
   "metadata": {
    "deletable": false,
    "editable": false,
    "nbgrader": {
     "cell_type": "code",
     "checksum": "41b714e8938f75c99334e3dfa173a6ec",
     "grade": true,
     "grade_id": "q2t6",
     "locked": true,
     "points": 1,
     "schema_version": 3,
     "solution": false,
     "task": false
    }
   },
   "outputs": [],
   "source": [
    "assert hmm1.probability('ab') > ab"
   ]
  },
  {
   "cell_type": "markdown",
   "id": "917dba0b",
   "metadata": {
    "deletable": false,
    "editable": false,
    "nbgrader": {
     "cell_type": "markdown",
     "checksum": "46377d41ea592e0ff1ee2942b32fd79d",
     "grade": false,
     "grade_id": "q3text",
     "locked": true,
     "schema_version": 3,
     "solution": false,
     "task": false
    }
   },
   "source": [
    "3. Now make a new HMM just like the one above *except* that the two states share a single new distribution specified so that `a` is `.4` and `b` is `.6`. (Make sure to name this distribution differently from the distribution names you used above.)"
   ]
  },
  {
   "cell_type": "code",
   "execution_count": 11,
   "id": "0054b104",
   "metadata": {
    "deletable": false,
    "nbgrader": {
     "cell_type": "code",
     "checksum": "22b54065d11a8da7e5e9ac6d5a9eb0f5",
     "grade": false,
     "grade_id": "q3a",
     "locked": false,
     "schema_version": 3,
     "solution": true,
     "task": false
    }
   },
   "outputs": [],
   "source": [
    "# hmm2 = ?\n",
    "d2 = p.DiscreteDistribution({'a':.4,'b':.6})\n",
    "model = p.HiddenMarkovModel()\n",
    "s1 = p.State( d2, name=\"Tied1\" )\n",
    "s2 = p.State( d2, name=\"Tied2\" )\n",
    "model.add_states(s1, s2)\n",
    "model.add_transition(model.start, s1, 1.0)\n",
    "model.add_transition(s1, s2, 1.0)\n",
    "model.add_transition(s2, s2, 0.5)\n",
    "model.add_transition(s2, model.end, 0.5)\n",
    "model.bake()\n",
    "hmm2 = model\n",
    "#raise NotImplementedError()"
   ]
  },
  {
   "cell_type": "code",
   "execution_count": 12,
   "id": "857ee742",
   "metadata": {
    "deletable": false,
    "editable": false,
    "nbgrader": {
     "cell_type": "code",
     "checksum": "ed18fbcc47ff8880db98a9b136f7a060",
     "grade": true,
     "grade_id": "q3t1",
     "locked": true,
     "points": 1,
     "schema_version": 3,
     "solution": false,
     "task": false
    }
   },
   "outputs": [],
   "source": [
    "assert hmm2.states[0].distribution.parameters[0] == \\\n",
    "hmm2.states[1].distribution.parameters[0] == \\\n",
    "{'a': 0.4, 'b': 0.6}"
   ]
  },
  {
   "cell_type": "code",
   "execution_count": 13,
   "id": "d15401fb",
   "metadata": {
    "deletable": false,
    "editable": false,
    "nbgrader": {
     "cell_type": "code",
     "checksum": "256689b0291df953bb5c46d66774daef",
     "grade": true,
     "grade_id": "q3t2",
     "locked": true,
     "points": 1,
     "schema_version": 3,
     "solution": false,
     "task": false
    }
   },
   "outputs": [],
   "source": [
    "ba = hmm2.probability('ba')\n",
    "assert np.isclose(ba,.12,atol=.001)"
   ]
  },
  {
   "cell_type": "code",
   "execution_count": 14,
   "id": "b32bb359",
   "metadata": {
    "deletable": false,
    "editable": false,
    "nbgrader": {
     "cell_type": "code",
     "checksum": "8b80c7f313186631ad226055ad18487b",
     "grade": true,
     "grade_id": "q3t3",
     "locked": true,
     "points": 1,
     "schema_version": 3,
     "solution": false,
     "task": false
    }
   },
   "outputs": [],
   "source": [
    "train2 = [np.array(list(word)) for word in ['ab','aa','bba']]\n",
    "hmm2.fit(train2)\n",
    "assert hmm2.states[0].distribution.parameters[0] == \\\n",
    "hmm2.states[1].distribution.parameters[0]"
   ]
  },
  {
   "cell_type": "code",
   "execution_count": 15,
   "id": "a7c0e549",
   "metadata": {
    "deletable": false,
    "editable": false,
    "nbgrader": {
     "cell_type": "code",
     "checksum": "1d439513720f49d680e61a1d8e689075",
     "grade": true,
     "grade_id": "q3t4",
     "locked": true,
     "points": 1,
     "schema_version": 3,
     "solution": false,
     "task": false
    }
   },
   "outputs": [],
   "source": [
    "assert hmm2.probability('ba') > ba"
   ]
  },
  {
   "cell_type": "markdown",
   "id": "b0dc58e5",
   "metadata": {
    "deletable": false,
    "editable": false,
    "nbgrader": {
     "cell_type": "markdown",
     "checksum": "453596251dfb3cf05323e7dbb9f9258b",
     "grade": false,
     "grade_id": "q4text",
     "locked": true,
     "schema_version": 3,
     "solution": false,
     "task": false
    }
   },
   "source": [
    "4. We'll now create two HMMs: `hmm3` and `hmm4`. Both will have two nodes `s1` and `s2`, and both will have the same linear structure. The only start nodes are `s1` and the only final nodes are `s2`. There are self-loops on both states and a single transition from `s1` to `s2`. The initial emissions probabilities for all states are $.5$ for `a` and `b`. Initial arc probabilities are all $0.5$. Emission probabilities are tied for `s1` in `hmm3` and `s2` in `hmm4`."
   ]
  },
  {
   "cell_type": "code",
   "execution_count": 16,
   "id": "fc6a542b",
   "metadata": {
    "deletable": false,
    "nbgrader": {
     "cell_type": "code",
     "checksum": "9b3934e6b48536a5f623bc76ec671c0c",
     "grade": false,
     "grade_id": "q4a",
     "locked": false,
     "schema_version": 3,
     "solution": true,
     "task": false
    }
   },
   "outputs": [],
   "source": [
    "# hmm3 = ?\n",
    "# hmm4 = ?\n",
    "d3 = p.DiscreteDistribution({'a':.5,'b':.5})\n",
    "model = p.HiddenMarkovModel()\n",
    "s1 = p.State( d3, name=\"Tied1\" )\n",
    "s2 = p.State( d3.copy() )\n",
    "model.add_states(s1, s2)\n",
    "model.add_transition(model.start, s1, 1.0)\n",
    "model.add_transition(s1, s2, 0.5)\n",
    "model.add_transition(s1, s1, 0.5)\n",
    "model.add_transition(s2, s2, 0.5)\n",
    "model.add_transition(s2, model.end, 0.5)\n",
    "model.bake()\n",
    "hmm3 = model\n",
    "\n",
    "model = p.HiddenMarkovModel()\n",
    "s1 = p.State( d3.copy())\n",
    "s2 = p.State( d3, name=\"Tied2\" )\n",
    "model.add_states(s1, s2)\n",
    "model.add_transition(model.start, s1, 1.0)\n",
    "model.add_transition(s1, s2, 0.5)\n",
    "model.add_transition(s1, s1, 0.5)\n",
    "model.add_transition(s2, s2, 0.5)\n",
    "model.add_transition(s2, model.end, 0.5)\n",
    "model.bake()\n",
    "hmm4 = model\n",
    "\n",
    "#raise NotImplementedError()"
   ]
  },
  {
   "cell_type": "code",
   "execution_count": 17,
   "id": "cbe47b4c",
   "metadata": {
    "deletable": false,
    "editable": false,
    "nbgrader": {
     "cell_type": "code",
     "checksum": "4edd4245b5fedcf1d6fe4b707e9a3390",
     "grade": true,
     "grade_id": "q4t1",
     "locked": true,
     "points": 1,
     "schema_version": 3,
     "solution": false,
     "task": false
    }
   },
   "outputs": [],
   "source": [
    "assert hmm3.probability('abb') == hmm4.probability('abb')"
   ]
  },
  {
   "cell_type": "code",
   "execution_count": 18,
   "id": "45267101",
   "metadata": {
    "deletable": false,
    "editable": false,
    "nbgrader": {
     "cell_type": "code",
     "checksum": "10d815a1c3ec5e878e4ad2240fad7fde",
     "grade": true,
     "grade_id": "q4t2",
     "locked": true,
     "points": 1,
     "schema_version": 3,
     "solution": false,
     "task": false
    }
   },
   "outputs": [],
   "source": [
    "assert hmm3.states[0].distribution.parameters[0] == \\\n",
    "hmm3.states[1].distribution.parameters[0] == \\\n",
    "hmm4.states[0].distribution.parameters[0] == \\\n",
    "hmm4.states[1].distribution.parameters[0]"
   ]
  },
  {
   "cell_type": "code",
   "execution_count": 19,
   "id": "0a58387b",
   "metadata": {
    "deletable": false,
    "editable": false,
    "nbgrader": {
     "cell_type": "code",
     "checksum": "f63c73ca1049d343f2b0b097222d3258",
     "grade": true,
     "grade_id": "q4t3",
     "locked": true,
     "points": 1,
     "schema_version": 3,
     "solution": false,
     "task": false
    }
   },
   "outputs": [],
   "source": [
    "train3 = [np.array(list(word)) for word in ['abb','aa','bba']]\n",
    "hmm3.fit(train3)\n",
    "assert hmm3.states[0].distribution.parameters[0] != \\\n",
    "hmm3.states[1].distribution.parameters[0]"
   ]
  },
  {
   "cell_type": "code",
   "execution_count": 20,
   "id": "eaca3be3",
   "metadata": {
    "deletable": false,
    "editable": false,
    "nbgrader": {
     "cell_type": "code",
     "checksum": "365ba9a42a3d32625418000921ed73bc",
     "grade": true,
     "grade_id": "q4t4",
     "locked": true,
     "points": 1,
     "schema_version": 3,
     "solution": false,
     "task": false
    }
   },
   "outputs": [],
   "source": [
    "assert hmm3.states[0].distribution.parameters[0] == \\\n",
    "hmm4.states[1].distribution.parameters[0]"
   ]
  }
 ],
 "metadata": {
  "kernelspec": {
   "display_name": "Python 3 (ipykernel)",
   "language": "python",
   "name": "python3"
  },
  "language_info": {
   "codemirror_mode": {
    "name": "ipython",
    "version": 3
   },
   "file_extension": ".py",
   "mimetype": "text/x-python",
   "name": "python",
   "nbconvert_exporter": "python",
   "pygments_lexer": "ipython3",
   "version": "3.8.10"
  }
 },
 "nbformat": 4,
 "nbformat_minor": 5
}
